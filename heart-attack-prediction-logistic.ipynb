{
 "cells": [
  {
   "cell_type": "markdown",
   "id": "warming-selection",
   "metadata": {
    "papermill": {
     "duration": 0.017,
     "end_time": "2023-02-20T09:57:58.165008",
     "exception": false,
     "start_time": "2023-02-20T09:57:58.148008",
     "status": "completed"
    },
    "tags": []
   },
   "source": [
    "## Importing the tools"
   ]
  },
  {
   "cell_type": "code",
   "execution_count": 1,
   "id": "humanitarian-offense",
   "metadata": {
    "_cell_guid": "b1076dfc-b9ad-4769-8c92-a6c4dae69d19",
    "_uuid": "8f2839f25d086af736a60e9eeb907d3b93b6e0e5",
    "execution": {
     "iopub.execute_input": "2023-02-20T09:57:58.201675Z",
     "iopub.status.busy": "2023-02-20T09:57:58.200515Z",
     "iopub.status.idle": "2023-02-20T09:57:59.602678Z",
     "shell.execute_reply": "2023-02-20T09:57:59.601950Z",
     "shell.execute_reply.started": "2023-01-20T13:27:36.888324Z"
    },
    "papermill": {
     "duration": 1.422024,
     "end_time": "2023-02-20T09:57:59.602858",
     "exception": false,
     "start_time": "2023-02-20T09:57:58.180834",
     "status": "completed"
    },
    "tags": []
   },
   "outputs": [],
   "source": [
    "#initial tools\n",
    "import numpy as np # linear algebra\n",
    "import pandas as pd # data processing, CSV file I/O (e.g. pd.read_csv)\n",
    "\n",
    "#plotting tools\n",
    "%matplotlib inline\n",
    "#show plots directly\n",
    "import matplotlib.pyplot as plt # plotting in details\n",
    "import seaborn as sns # to ease complex plots\n",
    "\n",
    "# modeling and scoring tools\n",
    "from sklearn.ensemble import RandomForestClassifier # the model we will use\n",
    "from sklearn.model_selection import train_test_split # splitting the data int train and test tool\n",
    "from sklearn.metrics import confusion_matrix,f1_score # scoring tools and technics\n",
    "\n",
    "import warnings \n",
    "warnings.filterwarnings(\"ignore\") # ignore file warnings "
   ]
  },
  {
   "cell_type": "markdown",
   "id": "silver-hollow",
   "metadata": {
    "papermill": {
     "duration": 0.015467,
     "end_time": "2023-02-20T09:57:59.634362",
     "exception": false,
     "start_time": "2023-02-20T09:57:59.618895",
     "status": "completed"
    },
    "tags": []
   },
   "source": [
    "## brief about the Features"
   ]
  },
  {
   "cell_type": "markdown",
   "id": "confirmed-candle",
   "metadata": {
    "papermill": {
     "duration": 0.015383,
     "end_time": "2023-02-20T09:57:59.665695",
     "exception": false,
     "start_time": "2023-02-20T09:57:59.650312",
     "status": "completed"
    },
    "tags": []
   },
   "source": [
    "Age : Age of the patient\n",
    "\n",
    "Sex : Sex of the patient\n",
    "\n",
    "exang: exercise induced angina (1 = yes; 0 = no)\n",
    "\n",
    "ca: number of major vessels (0-3)\n",
    "\n",
    "cp : Chest Pain type chest pain type\n",
    "* Value 1: typical angina\n",
    "* Value 2: atypical angina\n",
    "* Value 3: non-anginal pain\n",
    "* Value 4: asymptomatic\n",
    "* trtbps : resting blood pressure (in mm Hg)\n",
    "\n",
    "chol : cholestoral in mg/dl fetched via BMI sensor\n",
    "\n",
    "fbs : (fasting blood sugar > 120 mg/dl) (1 = true; 0 = false)\n",
    "\n",
    "rest_ecg : resting electrocardiographic results\n",
    "\n",
    "* Value 0: normal\n",
    "* Value 1: having ST-T wave abnormality (T wave inversions and/or ST elevation or depression of > 0.05 mV)\n",
    "* Value 2: showing probable or definite left ventricular hypertrophy by Estes' criteria\n",
    "thalach : maximum heart rate achieved\n",
    "\n",
    "target : 0= less chance of heart attack 1= more chance of heart attack"
   ]
  },
  {
   "cell_type": "markdown",
   "id": "architectural-scout",
   "metadata": {
    "papermill": {
     "duration": 0.015363,
     "end_time": "2023-02-20T09:57:59.696898",
     "exception": false,
     "start_time": "2023-02-20T09:57:59.681535",
     "status": "completed"
    },
    "tags": []
   },
   "source": [
    "## Read the data"
   ]
  },
  {
   "cell_type": "code",
   "execution_count": 2,
   "id": "bright-funeral",
   "metadata": {
    "execution": {
     "iopub.execute_input": "2023-02-20T09:57:59.736045Z",
     "iopub.status.busy": "2023-02-20T09:57:59.735400Z",
     "iopub.status.idle": "2023-02-20T09:57:59.789232Z",
     "shell.execute_reply": "2023-02-20T09:57:59.789751Z",
     "shell.execute_reply.started": "2023-01-20T13:27:38.264547Z"
    },
    "papermill": {
     "duration": 0.075092,
     "end_time": "2023-02-20T09:57:59.789935",
     "exception": false,
     "start_time": "2023-02-20T09:57:59.714843",
     "status": "completed"
    },
    "tags": []
   },
   "outputs": [
    {
     "data": {
      "text/html": [
       "<div>\n",
       "<style scoped>\n",
       "    .dataframe tbody tr th:only-of-type {\n",
       "        vertical-align: middle;\n",
       "    }\n",
       "\n",
       "    .dataframe tbody tr th {\n",
       "        vertical-align: top;\n",
       "    }\n",
       "\n",
       "    .dataframe thead th {\n",
       "        text-align: right;\n",
       "    }\n",
       "</style>\n",
       "<table border=\"1\" class=\"dataframe\">\n",
       "  <thead>\n",
       "    <tr style=\"text-align: right;\">\n",
       "      <th></th>\n",
       "      <th>age</th>\n",
       "      <th>sex</th>\n",
       "      <th>cp</th>\n",
       "      <th>trtbps</th>\n",
       "      <th>chol</th>\n",
       "      <th>fbs</th>\n",
       "      <th>restecg</th>\n",
       "      <th>thalachh</th>\n",
       "      <th>exng</th>\n",
       "      <th>oldpeak</th>\n",
       "      <th>slp</th>\n",
       "      <th>caa</th>\n",
       "      <th>thall</th>\n",
       "      <th>output</th>\n",
       "    </tr>\n",
       "  </thead>\n",
       "  <tbody>\n",
       "    <tr>\n",
       "      <th>0</th>\n",
       "      <td>63</td>\n",
       "      <td>1</td>\n",
       "      <td>3</td>\n",
       "      <td>145</td>\n",
       "      <td>233</td>\n",
       "      <td>1</td>\n",
       "      <td>0</td>\n",
       "      <td>150</td>\n",
       "      <td>0</td>\n",
       "      <td>2.3</td>\n",
       "      <td>0</td>\n",
       "      <td>0</td>\n",
       "      <td>1</td>\n",
       "      <td>1</td>\n",
       "    </tr>\n",
       "    <tr>\n",
       "      <th>1</th>\n",
       "      <td>37</td>\n",
       "      <td>1</td>\n",
       "      <td>2</td>\n",
       "      <td>130</td>\n",
       "      <td>250</td>\n",
       "      <td>0</td>\n",
       "      <td>1</td>\n",
       "      <td>187</td>\n",
       "      <td>0</td>\n",
       "      <td>3.5</td>\n",
       "      <td>0</td>\n",
       "      <td>0</td>\n",
       "      <td>2</td>\n",
       "      <td>1</td>\n",
       "    </tr>\n",
       "    <tr>\n",
       "      <th>2</th>\n",
       "      <td>41</td>\n",
       "      <td>0</td>\n",
       "      <td>1</td>\n",
       "      <td>130</td>\n",
       "      <td>204</td>\n",
       "      <td>0</td>\n",
       "      <td>0</td>\n",
       "      <td>172</td>\n",
       "      <td>0</td>\n",
       "      <td>1.4</td>\n",
       "      <td>2</td>\n",
       "      <td>0</td>\n",
       "      <td>2</td>\n",
       "      <td>1</td>\n",
       "    </tr>\n",
       "    <tr>\n",
       "      <th>3</th>\n",
       "      <td>56</td>\n",
       "      <td>1</td>\n",
       "      <td>1</td>\n",
       "      <td>120</td>\n",
       "      <td>236</td>\n",
       "      <td>0</td>\n",
       "      <td>1</td>\n",
       "      <td>178</td>\n",
       "      <td>0</td>\n",
       "      <td>0.8</td>\n",
       "      <td>2</td>\n",
       "      <td>0</td>\n",
       "      <td>2</td>\n",
       "      <td>1</td>\n",
       "    </tr>\n",
       "    <tr>\n",
       "      <th>4</th>\n",
       "      <td>57</td>\n",
       "      <td>0</td>\n",
       "      <td>0</td>\n",
       "      <td>120</td>\n",
       "      <td>354</td>\n",
       "      <td>0</td>\n",
       "      <td>1</td>\n",
       "      <td>163</td>\n",
       "      <td>1</td>\n",
       "      <td>0.6</td>\n",
       "      <td>2</td>\n",
       "      <td>0</td>\n",
       "      <td>2</td>\n",
       "      <td>1</td>\n",
       "    </tr>\n",
       "  </tbody>\n",
       "</table>\n",
       "</div>"
      ],
      "text/plain": [
       "   age  sex  cp  trtbps  chol  fbs  restecg  thalachh  exng  oldpeak  slp  \\\n",
       "0   63    1   3     145   233    1        0       150     0      2.3    0   \n",
       "1   37    1   2     130   250    0        1       187     0      3.5    0   \n",
       "2   41    0   1     130   204    0        0       172     0      1.4    2   \n",
       "3   56    1   1     120   236    0        1       178     0      0.8    2   \n",
       "4   57    0   0     120   354    0        1       163     1      0.6    2   \n",
       "\n",
       "   caa  thall  output  \n",
       "0    0      1       1  \n",
       "1    0      2       1  \n",
       "2    0      2       1  \n",
       "3    0      2       1  \n",
       "4    0      2       1  "
      ]
     },
     "execution_count": 2,
     "metadata": {},
     "output_type": "execute_result"
    }
   ],
   "source": [
    "df = pd.read_csv(\"/kaggle/input/heart-attack-analysis-prediction-dataset/heart.csv\")\n",
    "df.head()"
   ]
  },
  {
   "cell_type": "code",
   "execution_count": 3,
   "id": "dedicated-campbell",
   "metadata": {
    "execution": {
     "iopub.execute_input": "2023-02-20T09:57:59.846507Z",
     "iopub.status.busy": "2023-02-20T09:57:59.845531Z",
     "iopub.status.idle": "2023-02-20T09:57:59.849022Z",
     "shell.execute_reply": "2023-02-20T09:57:59.849579Z",
     "shell.execute_reply.started": "2023-01-20T13:27:38.320953Z"
    },
    "papermill": {
     "duration": 0.04183,
     "end_time": "2023-02-20T09:57:59.849762",
     "exception": false,
     "start_time": "2023-02-20T09:57:59.807932",
     "status": "completed"
    },
    "tags": []
   },
   "outputs": [
    {
     "name": "stdout",
     "output_type": "stream",
     "text": [
      "<class 'pandas.core.frame.DataFrame'>\n",
      "RangeIndex: 303 entries, 0 to 302\n",
      "Data columns (total 14 columns):\n",
      " #   Column    Non-Null Count  Dtype  \n",
      "---  ------    --------------  -----  \n",
      " 0   age       303 non-null    int64  \n",
      " 1   sex       303 non-null    int64  \n",
      " 2   cp        303 non-null    int64  \n",
      " 3   trtbps    303 non-null    int64  \n",
      " 4   chol      303 non-null    int64  \n",
      " 5   fbs       303 non-null    int64  \n",
      " 6   restecg   303 non-null    int64  \n",
      " 7   thalachh  303 non-null    int64  \n",
      " 8   exng      303 non-null    int64  \n",
      " 9   oldpeak   303 non-null    float64\n",
      " 10  slp       303 non-null    int64  \n",
      " 11  caa       303 non-null    int64  \n",
      " 12  thall     303 non-null    int64  \n",
      " 13  output    303 non-null    int64  \n",
      "dtypes: float64(1), int64(13)\n",
      "memory usage: 33.3 KB\n"
     ]
    }
   ],
   "source": [
    "# information about the data\n",
    "df.info()"
   ]
  },
  {
   "cell_type": "markdown",
   "id": "agricultural-brunei",
   "metadata": {
    "papermill": {
     "duration": 0.016452,
     "end_time": "2023-02-20T09:57:59.883249",
     "exception": false,
     "start_time": "2023-02-20T09:57:59.866797",
     "status": "completed"
    },
    "tags": []
   },
   "source": [
    "we see no null values , most of the types are int64 but oldpeak is float"
   ]
  },
  {
   "cell_type": "markdown",
   "id": "abroad-suggestion",
   "metadata": {
    "papermill": {
     "duration": 0.017975,
     "end_time": "2023-02-20T09:57:59.918089",
     "exception": false,
     "start_time": "2023-02-20T09:57:59.900114",
     "status": "completed"
    },
    "tags": []
   },
   "source": [
    "## Simple EDA"
   ]
  },
  {
   "cell_type": "code",
   "execution_count": 4,
   "id": "turkish-bristol",
   "metadata": {
    "execution": {
     "iopub.execute_input": "2023-02-20T09:57:59.957621Z",
     "iopub.status.busy": "2023-02-20T09:57:59.956593Z",
     "iopub.status.idle": "2023-02-20T09:57:59.959068Z",
     "shell.execute_reply": "2023-02-20T09:57:59.959531Z",
     "shell.execute_reply.started": "2023-01-20T13:27:38.344844Z"
    },
    "papermill": {
     "duration": 0.024666,
     "end_time": "2023-02-20T09:57:59.959706",
     "exception": false,
     "start_time": "2023-02-20T09:57:59.935040",
     "status": "completed"
    },
    "tags": []
   },
   "outputs": [],
   "source": [
    "sns.set_style(\"darkgrid\") # set a background style for the plots"
   ]
  },
  {
   "cell_type": "code",
   "execution_count": 5,
   "id": "vertical-monster",
   "metadata": {
    "execution": {
     "iopub.execute_input": "2023-02-20T09:58:00.000662Z",
     "iopub.status.busy": "2023-02-20T09:57:59.999963Z",
     "iopub.status.idle": "2023-02-20T09:58:00.264128Z",
     "shell.execute_reply": "2023-02-20T09:58:00.263595Z",
     "shell.execute_reply.started": "2023-01-20T13:27:38.359621Z"
    },
    "papermill": {
     "duration": 0.287499,
     "end_time": "2023-02-20T09:58:00.264307",
     "exception": false,
     "start_time": "2023-02-20T09:57:59.976808",
     "status": "completed"
    },
    "tags": []
   },
   "outputs": [
    {
     "data": {
      "image/png": "[encoded data removed]",
      "text/plain": [
       "<Figure size 720x432 with 1 Axes>"
      ]
     },
     "metadata": {},
     "output_type": "display_data"
    }
   ],
   "source": [
    "#lets see the age range in a histogram \n",
    "plt.figure(figsize=(10,6)) #setting size of the plot\n",
    "sns.histplot(data=df,x=\"age\",bins=10);"
   ]
  },
  {
   "cell_type": "code",
   "execution_count": 6,
   "id": "every-wilderness",
   "metadata": {
    "execution": {
     "iopub.execute_input": "2023-02-20T09:58:00.315576Z",
     "iopub.status.busy": "2023-02-20T09:58:00.314306Z",
     "iopub.status.idle": "2023-02-20T09:58:01.882125Z",
     "shell.execute_reply": "2023-02-20T09:58:01.881444Z",
     "shell.execute_reply.started": "2023-01-20T13:27:38.642242Z"
    },
    "papermill": {
     "duration": 1.600469,
     "end_time": "2023-02-20T09:58:01.882433",
     "exception": false,
     "start_time": "2023-02-20T09:58:00.281964",
     "status": "completed"
    },
    "tags": []
   },
   "outputs": [
    {
     "data": {
      "image/png": "[encoded data removed]",
      "text/plain": [
       "<Figure size 1080x720 with 1 Axes>"
      ]
     },
     "metadata": {},
     "output_type": "display_data"
    }
   ],
   "source": [
    "#angina and age\n",
    "plt.figure(figsize=(15,10)) #setting the plot size\n",
    "sns.barplot(data=df,x=\"age\",y=\"exng\"); "
   ]
  },
  {
   "cell_type": "markdown",
   "id": "institutional-traffic",
   "metadata": {
    "papermill": {
     "duration": 0.018539,
     "end_time": "2023-02-20T09:58:01.920071",
     "exception": false,
     "start_time": "2023-02-20T09:58:01.901532",
     "status": "completed"
    },
    "tags": []
   },
   "source": [
    "we see ages (29 34 37 39 49 65 69 71 76) do not experience angina during exercise. "
   ]
  },
  {
   "cell_type": "code",
   "execution_count": 7,
   "id": "dense-essay",
   "metadata": {
    "execution": {
     "iopub.execute_input": "2023-02-20T09:58:01.984096Z",
     "iopub.status.busy": "2023-02-20T09:58:01.964200Z",
     "iopub.status.idle": "2023-02-20T09:58:02.463244Z",
     "shell.execute_reply": "2023-02-20T09:58:02.463820Z",
     "shell.execute_reply.started": "2023-01-20T13:27:40.197445Z"
    },
    "papermill": {
     "duration": 0.5253,
     "end_time": "2023-02-20T09:58:02.463990",
     "exception": false,
     "start_time": "2023-02-20T09:58:01.938690",
     "status": "completed"
    },
    "tags": []
   },
   "outputs": [
    {
     "data": {
      "image/png": "[encoded data removed]",
      "text/plain": [
       "<Figure size 402.375x360 with 1 Axes>"
      ]
     },
     "metadata": {},
     "output_type": "display_data"
    }
   ],
   "source": [
    "#relation between age and highest heart rate and how likely that patient will have heart attack\n",
    "\n",
    "sns.lmplot(data=df,x=\"age\",y=\"thalachh\",hue=\"output\",fit_reg=False);"
   ]
  },
  {
   "cell_type": "markdown",
   "id": "czech-replication",
   "metadata": {
    "papermill": {
     "duration": 0.019315,
     "end_time": "2023-02-20T09:58:02.502997",
     "exception": false,
     "start_time": "2023-02-20T09:58:02.483682",
     "status": "completed"
    },
    "tags": []
   },
   "source": [
    "we see that probability of having heart attack increase after the maximum heart rate achieved exceed 120 "
   ]
  },
  {
   "cell_type": "markdown",
   "id": "twelve-geneva",
   "metadata": {
    "papermill": {
     "duration": 0.019312,
     "end_time": "2023-02-20T09:58:02.541888",
     "exception": false,
     "start_time": "2023-02-20T09:58:02.522576",
     "status": "completed"
    },
    "tags": []
   },
   "source": [
    "## Creating features and Splitting the data"
   ]
  },
  {
   "cell_type": "code",
   "execution_count": 8,
   "id": "closing-reviewer",
   "metadata": {
    "execution": {
     "iopub.execute_input": "2023-02-20T09:58:02.584185Z",
     "iopub.status.busy": "2023-02-20T09:58:02.583486Z",
     "iopub.status.idle": "2023-02-20T09:58:02.603946Z",
     "shell.execute_reply": "2023-02-20T09:58:02.604476Z",
     "shell.execute_reply.started": "2023-01-20T13:27:40.668289Z"
    },
    "papermill": {
     "duration": 0.043033,
     "end_time": "2023-02-20T09:58:02.604653",
     "exception": false,
     "start_time": "2023-02-20T09:58:02.561620",
     "status": "completed"
    },
    "tags": []
   },
   "outputs": [],
   "source": [
    "#creat new feature and read an existing feature\n",
    "\n",
    "#creating a feature\n",
    "df[\"c/o\"]=df[\"cp\"]/df[\"thalachh\"]\n",
    "\n",
    "#reading an existing feature\n",
    "df[\"sat\"] = pd.read_csv(\"/kaggle/input/heart-attack-analysis-prediction-dataset/o2Saturation.csv\")"
   ]
  },
  {
   "cell_type": "code",
   "execution_count": 9,
   "id": "toxic-words",
   "metadata": {
    "execution": {
     "iopub.execute_input": "2023-02-20T09:58:02.646911Z",
     "iopub.status.busy": "2023-02-20T09:58:02.646295Z",
     "iopub.status.idle": "2023-02-20T09:58:02.653799Z",
     "shell.execute_reply": "2023-02-20T09:58:02.654414Z",
     "shell.execute_reply.started": "2023-01-20T13:27:40.686407Z"
    },
    "papermill": {
     "duration": 0.03047,
     "end_time": "2023-02-20T09:58:02.654579",
     "exception": false,
     "start_time": "2023-02-20T09:58:02.624109",
     "status": "completed"
    },
    "tags": []
   },
   "outputs": [],
   "source": [
    "#defining the dependant and independant columns\n",
    "\n",
    "X = df.drop([\"output\"],axis=1) #independant columns\n",
    "y = df.output #dependant column\n",
    "\n",
    "X_train, X_test, y_train, y_test = train_test_split(X, y, test_size=0.2,random_state=42) #splitting the data into train and test "
   ]
  },
  {
   "cell_type": "markdown",
   "id": "vertical-representation",
   "metadata": {
    "papermill": {
     "duration": 0.019021,
     "end_time": "2023-02-20T09:58:02.692915",
     "exception": false,
     "start_time": "2023-02-20T09:58:02.673894",
     "status": "completed"
    },
    "tags": []
   },
   "source": [
    "## Modeling"
   ]
  },
  {
   "cell_type": "code",
   "execution_count": 10,
   "id": "ultimate-violin",
   "metadata": {
    "execution": {
     "iopub.execute_input": "2023-02-20T09:58:02.734883Z",
     "iopub.status.busy": "2023-02-20T09:58:02.734147Z",
     "iopub.status.idle": "2023-02-20T09:58:02.872520Z",
     "shell.execute_reply": "2023-02-20T09:58:02.871939Z",
     "shell.execute_reply.started": "2023-01-20T13:27:40.698110Z"
    },
    "papermill": {
     "duration": 0.160451,
     "end_time": "2023-02-20T09:58:02.872676",
     "exception": false,
     "start_time": "2023-02-20T09:58:02.712225",
     "status": "completed"
    },
    "tags": []
   },
   "outputs": [
    {
     "data": {
      "text/plain": [
       "RandomForestClassifier(ccp_alpha=0.01, min_samples_leaf=2, n_estimators=40,\n",
       "                       n_jobs=-1, random_state=42)"
      ]
     },
     "execution_count": 10,
     "metadata": {},
     "output_type": "execute_result"
    }
   ],
   "source": [
    "reg = RandomForestClassifier(n_jobs=-1,n_estimators=40,min_samples_leaf=2,random_state=42,ccp_alpha=0.01) #using random forest as a model\n",
    "\n",
    "#before i choose this parameters i ran gridsearchcv these are the parameters that worked to save time for you\n",
    "\n",
    "reg.fit(X_train,y_train) #training the model"
   ]
  },
  {
   "cell_type": "markdown",
   "id": "serial-phase",
   "metadata": {
    "papermill": {
     "duration": 0.019789,
     "end_time": "2023-02-20T09:58:02.912988",
     "exception": false,
     "start_time": "2023-02-20T09:58:02.893199",
     "status": "completed"
    },
    "tags": []
   },
   "source": [
    "## Scoring"
   ]
  },
  {
   "cell_type": "code",
   "execution_count": 11,
   "id": "frozen-italian",
   "metadata": {
    "execution": {
     "iopub.execute_input": "2023-02-20T09:58:02.956967Z",
     "iopub.status.busy": "2023-02-20T09:58:02.955993Z",
     "iopub.status.idle": "2023-02-20T09:58:03.173667Z",
     "shell.execute_reply": "2023-02-20T09:58:03.173000Z",
     "shell.execute_reply.started": "2023-01-20T13:27:40.844351Z"
    },
    "papermill": {
     "duration": 0.241021,
     "end_time": "2023-02-20T09:58:03.173824",
     "exception": false,
     "start_time": "2023-02-20T09:58:02.932803",
     "status": "completed"
    },
    "tags": []
   },
   "outputs": [
    {
     "name": "stdout",
     "output_type": "stream",
     "text": [
      "accuracy score on the training set :  0.9338842975206612\n",
      "accuracy score on the test set :  0.9016393442622951\n"
     ]
    }
   ],
   "source": [
    "print(\"accuracy score on the training set : \",reg.score(X_train,y_train))\n",
    "print(\"accuracy score on the test set : \",reg.score(X_test,y_test))"
   ]
  },
  {
   "cell_type": "code",
   "execution_count": 12,
   "id": "divided-bachelor",
   "metadata": {
    "execution": {
     "iopub.execute_input": "2023-02-20T09:58:03.224267Z",
     "iopub.status.busy": "2023-02-20T09:58:03.223552Z",
     "iopub.status.idle": "2023-02-20T09:58:03.438650Z",
     "shell.execute_reply": "2023-02-20T09:58:03.437986Z",
     "shell.execute_reply.started": "2023-01-20T13:27:41.063848Z"
    },
    "papermill": {
     "duration": 0.243239,
     "end_time": "2023-02-20T09:58:03.438784",
     "exception": false,
     "start_time": "2023-02-20T09:58:03.195545",
     "status": "completed"
    },
    "tags": []
   },
   "outputs": [
    {
     "name": "stdout",
     "output_type": "stream",
     "text": [
      "F1 score on the training set :  0.9402985074626865\n",
      "F1 score on the test set :  0.90625\n"
     ]
    }
   ],
   "source": [
    "print(\"F1 score on the training set : \",f1_score(y_train,reg.predict(X_train)))\n",
    "print(\"F1 score on the test set : \",f1_score(y_test,reg.predict(X_test)))"
   ]
  },
  {
   "cell_type": "code",
   "execution_count": 13,
   "id": "coordinated-cleanup",
   "metadata": {
    "execution": {
     "iopub.execute_input": "2023-02-20T09:58:03.487229Z",
     "iopub.status.busy": "2023-02-20T09:58:03.486537Z",
     "iopub.status.idle": "2023-02-20T09:58:03.832581Z",
     "shell.execute_reply": "2023-02-20T09:58:03.831878Z",
     "shell.execute_reply.started": "2023-01-20T13:27:41.287073Z"
    },
    "papermill": {
     "duration": 0.373121,
     "end_time": "2023-02-20T09:58:03.832727",
     "exception": false,
     "start_time": "2023-02-20T09:58:03.459606",
     "status": "completed"
    },
    "tags": []
   },
   "outputs": [
    {
     "data": {
      "image/png": "[encoded data removed]",
      "text/plain": [
       "<Figure size 432x288 with 2 Axes>"
      ]
     },
     "metadata": {},
     "output_type": "display_data"
    }
   ],
   "source": [
    "#confusin matrix\n",
    "pred = reg.predict(X_test)\n",
    "                   \n",
    "sns.heatmap(confusion_matrix(y_test,pred),annot=True);"
   ]
  },
  {
   "cell_type": "markdown",
   "id": "structural-thinking",
   "metadata": {
    "papermill": {
     "duration": 0.020745,
     "end_time": "2023-02-20T09:58:03.874828",
     "exception": false,
     "start_time": "2023-02-20T09:58:03.854083",
     "status": "completed"
    },
    "tags": []
   },
   "source": [
    "out of 61 example there is only 6 example which got predicted wrong"
   ]
  },
  {
   "cell_type": "markdown",
   "id": "executive-jerusalem",
   "metadata": {
    "papermill": {
     "duration": 0.020536,
     "end_time": "2023-02-20T09:58:03.916363",
     "exception": false,
     "start_time": "2023-02-20T09:58:03.895827",
     "status": "completed"
    },
    "tags": []
   },
   "source": [
    "#### thank you "
   ]
  }
 ],
 "metadata": {
  "kernelspec": {
   "display_name": "Python 3",
   "language": "python",
   "name": "python3"
  },
  "language_info": {
   "codemirror_mode": {
    "name": "ipython",
    "version": 3
   },
   "file_extension": ".py",
   "mimetype": "text/x-python",
   "name": "python",
   "nbconvert_exporter": "python",
   "pygments_lexer": "ipython3",
   "version": "3.7.9"
  },
  "papermill": {
   "default_parameters": {},
   "duration": 12.486429,
   "end_time": "2023-02-20T09:58:04.647454",
   "environment_variables": {},
   "exception": null,
   "input_path": "__notebook__.ipynb",
   "output_path": "__notebook__.ipynb",
   "parameters": {},
   "start_time": "2023-02-20T09:57:52.161025",
   "version": "2.3.2"
  }
 },
 "nbformat": 4,
 "nbformat_minor": 5
}
